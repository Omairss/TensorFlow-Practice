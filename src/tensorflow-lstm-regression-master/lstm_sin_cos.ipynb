{
 "cells": [
  {
   "cell_type": "code",
   "execution_count": 7,
   "metadata": {
    "collapsed": false
   },
   "outputs": [],
   "source": [
    "%matplotlib inline\n",
    "import numpy as np\n",
    "import pandas as pd\n",
    "import tensorflow as tf\n",
    "from matplotlib import pyplot as plt\n",
    "\n",
    "from tensorflow.contrib import learn\n",
    "from sklearn.metrics import mean_squared_error\n",
    "\n",
    "from lstm import sin_cos, generate_data, lstm_model, read_data"
   ]
  },
  {
   "cell_type": "code",
   "execution_count": 2,
   "metadata": {
    "collapsed": true
   },
   "outputs": [],
   "source": [
    "LOG_DIR = './ops_logs/sin_cos'\n",
    "TIMESTEPS = 5\n",
    "RNN_LAYERS = [{'num_units': 5}, {'num_units': 2}]\n",
    "DENSE_LAYERS = None\n",
    "TRAINING_STEPS = 10000\n",
    "PRINT_STEPS = TRAINING_STEPS / 10\n",
    "BATCH_SIZE = 100"
   ]
  },
  {
   "cell_type": "code",
   "execution_count": 3,
   "metadata": {
    "collapsed": false
   },
   "outputs": [],
   "source": [
    "regressor = learn.Estimator(model_fn=lstm_model(TIMESTEPS, RNN_LAYERS, DENSE_LAYERS),\n",
    "                            model_dir=LOG_DIR)"
   ]
  },
  {
   "cell_type": "code",
   "execution_count": 12,
   "metadata": {
    "collapsed": false
   },
   "outputs": [
    {
     "name": "stderr",
     "output_type": "stream",
     "text": [
      "WARNING:tensorflow:Given features: Tensor(\"input:0\", shape=(?, 5, 2), dtype=float32), required signatures: TensorSignature(dtype=tf.float32, shape=TensorShape([Dimension(None), Dimension(5), Dimension(2)]), is_sparse=False).\n",
      "WARNING:tensorflow:Given targets: Tensor(\"output:0\", shape=(?, 2), dtype=float64), required signatures: TensorSignature(dtype=tf.float64, shape=TensorShape([Dimension(None), Dimension(2)]), is_sparse=False).\n"
     ]
    },
    {
     "name": "stdout",
     "output_type": "stream",
     "text": [
      "prediction: Tensor(\"linear_regression/mean_squared_error_regressor/xw_plus_b:0\", shape=(?, 2), dtype=float32)\n",
      "loss: Tensor(\"linear_regression/mean_squared_error_regressor/sum_of_squares_loss/value:0\", shape=(), dtype=float32)\n"
     ]
    },
    {
     "name": "stderr",
     "output_type": "stream",
     "text": [
      "WARNING:tensorflow:Given features: Tensor(\"input:0\", shape=(?, 5, 2), dtype=float32), required signatures: TensorSignature(dtype=tf.float32, shape=TensorShape([Dimension(None), Dimension(5), Dimension(2)]), is_sparse=False).\n",
      "WARNING:tensorflow:Given targets: Tensor(\"output:0\", shape=(?, 2), dtype=float64), required signatures: TensorSignature(dtype=tf.float64, shape=TensorShape([Dimension(None), Dimension(2)]), is_sparse=False).\n"
     ]
    },
    {
     "name": "stdout",
     "output_type": "stream",
     "text": [
      "prediction: Tensor(\"linear_regression/mean_squared_error_regressor/xw_plus_b:0\", shape=(?, 2), dtype=float32)\n",
      "loss: Tensor(\"linear_regression/mean_squared_error_regressor/sum_of_squares_loss/value:0\", shape=(), dtype=float32)\n"
     ]
    },
    {
     "name": "stderr",
     "output_type": "stream",
     "text": [
      "WARNING:tensorflow:Given features: Tensor(\"input:0\", shape=(?, 5, 2), dtype=float32), required signatures: TensorSignature(dtype=tf.float32, shape=TensorShape([Dimension(None), Dimension(5), Dimension(2)]), is_sparse=False).\n",
      "WARNING:tensorflow:Given targets: Tensor(\"output:0\", shape=(?, 2), dtype=float64), required signatures: TensorSignature(dtype=tf.float64, shape=TensorShape([Dimension(None), Dimension(2)]), is_sparse=False).\n"
     ]
    },
    {
     "name": "stdout",
     "output_type": "stream",
     "text": [
      "prediction: Tensor(\"linear_regression/mean_squared_error_regressor/xw_plus_b:0\", shape=(?, 2), dtype=float32)\n",
      "loss: Tensor(\"linear_regression/mean_squared_error_regressor/sum_of_squares_loss/value:0\", shape=(), dtype=float32)\n"
     ]
    },
    {
     "name": "stderr",
     "output_type": "stream",
     "text": [
      "WARNING:tensorflow:Given features: Tensor(\"input:0\", shape=(?, 5, 2), dtype=float32), required signatures: TensorSignature(dtype=tf.float32, shape=TensorShape([Dimension(None), Dimension(5), Dimension(2)]), is_sparse=False).\n",
      "WARNING:tensorflow:Given targets: Tensor(\"output:0\", shape=(?, 2), dtype=float64), required signatures: TensorSignature(dtype=tf.float64, shape=TensorShape([Dimension(None), Dimension(2)]), is_sparse=False).\n"
     ]
    },
    {
     "name": "stdout",
     "output_type": "stream",
     "text": [
      "prediction: Tensor(\"linear_regression/mean_squared_error_regressor/xw_plus_b:0\", shape=(?, 2), dtype=float32)\n",
      "loss: Tensor(\"linear_regression/mean_squared_error_regressor/sum_of_squares_loss/value:0\", shape=(), dtype=float32)\n"
     ]
    },
    {
     "name": "stderr",
     "output_type": "stream",
     "text": [
      "WARNING:tensorflow:Given features: Tensor(\"input:0\", shape=(?, 5, 2), dtype=float32), required signatures: TensorSignature(dtype=tf.float32, shape=TensorShape([Dimension(None), Dimension(5), Dimension(2)]), is_sparse=False).\n",
      "WARNING:tensorflow:Given targets: Tensor(\"output:0\", shape=(?, 2), dtype=float64), required signatures: TensorSignature(dtype=tf.float64, shape=TensorShape([Dimension(None), Dimension(2)]), is_sparse=False).\n"
     ]
    },
    {
     "name": "stdout",
     "output_type": "stream",
     "text": [
      "prediction: Tensor(\"linear_regression/mean_squared_error_regressor/xw_plus_b:0\", shape=(?, 2), dtype=float32)\n",
      "loss: Tensor(\"linear_regression/mean_squared_error_regressor/sum_of_squares_loss/value:0\", shape=(), dtype=float32)\n"
     ]
    },
    {
     "name": "stderr",
     "output_type": "stream",
     "text": [
      "WARNING:tensorflow:Given features: Tensor(\"input:0\", shape=(?, 5, 2), dtype=float32), required signatures: TensorSignature(dtype=tf.float32, shape=TensorShape([Dimension(None), Dimension(5), Dimension(2)]), is_sparse=False).\n",
      "WARNING:tensorflow:Given targets: Tensor(\"output:0\", shape=(?, 2), dtype=float64), required signatures: TensorSignature(dtype=tf.float64, shape=TensorShape([Dimension(None), Dimension(2)]), is_sparse=False).\n"
     ]
    },
    {
     "name": "stdout",
     "output_type": "stream",
     "text": [
      "prediction: Tensor(\"linear_regression/mean_squared_error_regressor/xw_plus_b:0\", shape=(?, 2), dtype=float32)\n",
      "loss: Tensor(\"linear_regression/mean_squared_error_regressor/sum_of_squares_loss/value:0\", shape=(), dtype=float32)\n"
     ]
    },
    {
     "name": "stderr",
     "output_type": "stream",
     "text": [
      "WARNING:tensorflow:Given features: Tensor(\"input:0\", shape=(?, 5, 2), dtype=float32), required signatures: TensorSignature(dtype=tf.float32, shape=TensorShape([Dimension(None), Dimension(5), Dimension(2)]), is_sparse=False).\n",
      "WARNING:tensorflow:Given targets: Tensor(\"output:0\", shape=(?, 2), dtype=float64), required signatures: TensorSignature(dtype=tf.float64, shape=TensorShape([Dimension(None), Dimension(2)]), is_sparse=False).\n"
     ]
    },
    {
     "name": "stdout",
     "output_type": "stream",
     "text": [
      "prediction: Tensor(\"linear_regression/mean_squared_error_regressor/xw_plus_b:0\", shape=(?, 2), dtype=float32)\n",
      "loss: Tensor(\"linear_regression/mean_squared_error_regressor/sum_of_squares_loss/value:0\", shape=(), dtype=float32)\n"
     ]
    },
    {
     "name": "stderr",
     "output_type": "stream",
     "text": [
      "WARNING:tensorflow:Given features: Tensor(\"input:0\", shape=(?, 5, 2), dtype=float32), required signatures: TensorSignature(dtype=tf.float32, shape=TensorShape([Dimension(None), Dimension(5), Dimension(2)]), is_sparse=False).\n",
      "WARNING:tensorflow:Given targets: Tensor(\"output:0\", shape=(?, 2), dtype=float64), required signatures: TensorSignature(dtype=tf.float64, shape=TensorShape([Dimension(None), Dimension(2)]), is_sparse=False).\n"
     ]
    },
    {
     "name": "stdout",
     "output_type": "stream",
     "text": [
      "prediction: Tensor(\"linear_regression/mean_squared_error_regressor/xw_plus_b:0\", shape=(?, 2), dtype=float32)\n",
      "loss: Tensor(\"linear_regression/mean_squared_error_regressor/sum_of_squares_loss/value:0\", shape=(), dtype=float32)\n"
     ]
    },
    {
     "data": {
      "text/plain": [
       "Estimator(params=None)"
      ]
     },
     "execution_count": 12,
     "metadata": {},
     "output_type": "execute_result"
    }
   ],
   "source": [
    "X, y = generate_data(sin_cos, np.linspace(0, 100, 10000), TIMESTEPS, seperate=False)\n",
    "#X, y  = read_data('TATAMOTORS', 'Close', TIMESTEPS, seperate=False)\n",
    "\n",
    "# create a lstm instance and validation monitor\n",
    "validation_monitor = learn.monitors.ValidationMonitor(X['val'], y['val'],\n",
    "                                                      every_n_steps=PRINT_STEPS,\n",
    "                                                      early_stopping_rounds=1000)\n",
    "regressor.fit(X['train'], y['train'], \n",
    "              monitors=[validation_monitor], \n",
    "              batch_size=BATCH_SIZE,\n",
    "              steps=TRAINING_STEPS)"
   ]
  },
  {
   "cell_type": "code",
   "execution_count": 5,
   "metadata": {
    "collapsed": false
   },
   "outputs": [
    {
     "name": "stdout",
     "output_type": "stream",
     "text": [
      "prediction: Tensor(\"linear_regression/mean_squared_error_regressor/xw_plus_b:0\", shape=(?, 2), dtype=float32)\n",
      "loss: Tensor(\"linear_regression/mean_squared_error_regressor/sum_of_squares_loss/value:0\", shape=(), dtype=float32)\n",
      "MSE: 0.000035\n"
     ]
    }
   ],
   "source": [
    "predicted = regressor.predict(X['test'])\n",
    "rmse = np.sqrt(((predicted - y['test']) ** 2).mean(axis=0))\n",
    "score = mean_squared_error(predicted, y['test'])\n",
    "print (\"MSE: %f\" % score)"
   ]
  },
  {
   "cell_type": "code",
   "execution_count": 6,
   "metadata": {
    "collapsed": false
   },
   "outputs": [
    {
     "data": {
      "text/plain": [
       "[<matplotlib.lines.Line2D at 0x7f04dc39c650>,\n",
       " <matplotlib.lines.Line2D at 0x7f04dc39c850>]"
      ]
     },
     "execution_count": 6,
     "metadata": {},
     "output_type": "execute_result"
    },
    {
     "data": {
      "image/png": "[encoded data removed]",
      "text/plain": [
       "<matplotlib.figure.Figure at 0x7f05380990d0>"
      ]
     },
     "metadata": {},
     "output_type": "display_data"
    }
   ],
   "source": [
    "plt.plot(predicted)"
   ]
  },
  {
   "cell_type": "code",
   "execution_count": 8,
   "metadata": {
    "collapsed": false
   },
   "outputs": [
    {
     "data": {
      "text/plain": [
       "[<matplotlib.lines.Line2D at 0x11310de80>,\n",
       " <matplotlib.lines.Line2D at 0x113112080>]"
      ]
     },
     "execution_count": 8,
     "metadata": {},
     "output_type": "execute_result"
    },
    {
     "data": {
      "image/png": "[encoded data removed]",
      "text/plain": [
       "<matplotlib.figure.Figure at 0x112288dd8>"
      ]
     },
     "metadata": {},
     "output_type": "display_data"
    }
   ],
   "source": [
    "plt.plot(y['test'])"
   ]
  },
  {
   "cell_type": "code",
   "execution_count": 9,
   "metadata": {
    "collapsed": false
   },
   "outputs": [
    {
     "data": {
      "text/plain": [
       "<matplotlib.legend.Legend at 0x110c3bc18>"
      ]
     },
     "execution_count": 9,
     "metadata": {},
     "output_type": "execute_result"
    },
    {
     "data": {
      "image/png": "[encoded data removed]",
      "text/plain": [
       "<matplotlib.figure.Figure at 0x112dfb6d8>"
      ]
     },
     "metadata": {},
     "output_type": "display_data"
    }
   ],
   "source": [
    "plot_predicted = plt.plot(predicted, label='predicted')\n",
    "plot_test = plt.plot(y['test'], label='test')\n",
    "plt.legend(handles=plot_predicted+plot_test)"
   ]
  },
  {
   "cell_type": "code",
   "execution_count": 9,
   "metadata": {
    "collapsed": false,
    "scrolled": true
   },
   "outputs": [
    {
     "data": {
      "text/plain": [
       "{'test': array([[[ 51.6518],\n",
       "         [ 51.0529],\n",
       "         [ 51.502 ],\n",
       "         [ 52.1009],\n",
       "         [ 53.2986]],\n",
       " \n",
       "        [[ 51.0529],\n",
       "         [ 51.502 ],\n",
       "         [ 52.1009],\n",
       "         [ 53.2986],\n",
       "         [ 55.0952]],\n",
       " \n",
       "        [[ 51.502 ],\n",
       "         [ 52.1009],\n",
       "         [ 53.2986],\n",
       "         [ 55.0952],\n",
       "         [ 55.2449]],\n",
       " \n",
       "        ..., \n",
       "        [[ 19.7624],\n",
       "         [ 20.0618],\n",
       "         [ 20.3613],\n",
       "         [ 20.9601],\n",
       "         [ 20.511 ]],\n",
       " \n",
       "        [[ 20.0618],\n",
       "         [ 20.3613],\n",
       "         [ 20.9601],\n",
       "         [ 20.511 ],\n",
       "         [ 21.1098]],\n",
       " \n",
       "        [[ 20.3613],\n",
       "         [ 20.9601],\n",
       "         [ 20.511 ],\n",
       "         [ 21.1098],\n",
       "         [ 21.8584]]]), 'train': array([[[ 511.95  ],\n",
       "         [ 510.25  ],\n",
       "         [ 506.9   ],\n",
       "         [ 515.25  ],\n",
       "         [ 515.25  ]],\n",
       " \n",
       "        [[ 510.25  ],\n",
       "         [ 506.9   ],\n",
       "         [ 515.25  ],\n",
       "         [ 515.25  ],\n",
       "         [ 502.3   ]],\n",
       " \n",
       "        [[ 506.9   ],\n",
       "         [ 515.25  ],\n",
       "         [ 515.25  ],\n",
       "         [ 502.3   ],\n",
       "         [ 503.3   ]],\n",
       " \n",
       "        ..., \n",
       "        [[  95.1949],\n",
       "         [  95.8178],\n",
       "         [  97.4467],\n",
       "         [  97.0634],\n",
       "         [  97.1592]],\n",
       " \n",
       "        [[  95.8178],\n",
       "         [  97.4467],\n",
       "         [  97.0634],\n",
       "         [  97.1592],\n",
       "         [  98.9798]],\n",
       " \n",
       "        [[  97.4467],\n",
       "         [  97.0634],\n",
       "         [  97.1592],\n",
       "         [  98.9798],\n",
       "         [  99.8421]]]), 'val': array([[[ 101.998 ],\n",
       "         [ 107.699 ],\n",
       "         [ 106.741 ],\n",
       "         [ 106.454 ],\n",
       "         [ 105.591 ]],\n",
       " \n",
       "        [[ 107.699 ],\n",
       "         [ 106.741 ],\n",
       "         [ 106.454 ],\n",
       "         [ 105.591 ],\n",
       "         [ 101.806 ]],\n",
       " \n",
       "        [[ 106.741 ],\n",
       "         [ 106.454 ],\n",
       "         [ 105.591 ],\n",
       "         [ 101.806 ],\n",
       "         [ 101.998 ]],\n",
       " \n",
       "        ..., \n",
       "        [[  63.4793],\n",
       "         [  67.0724],\n",
       "         [  65.2758],\n",
       "         [  60.485 ],\n",
       "         [  53.8975]],\n",
       " \n",
       "        [[  67.0724],\n",
       "         [  65.2758],\n",
       "         [  60.485 ],\n",
       "         [  53.8975],\n",
       "         [  56.5924]],\n",
       " \n",
       "        [[  65.2758],\n",
       "         [  60.485 ],\n",
       "         [  53.8975],\n",
       "         [  56.5924],\n",
       "         [  55.9935]]])}"
      ]
     },
     "execution_count": 9,
     "metadata": {},
     "output_type": "execute_result"
    }
   ],
   "source": [
    "X"
   ]
  },
  {
   "cell_type": "code",
   "execution_count": 10,
   "metadata": {
    "collapsed": true
   },
   "outputs": [],
   "source": [
    "X, y = generate_data(sin_cos, np.linspace(0, 100, 10000), TIMESTEPS, seperate=False)"
   ]
  },
  {
   "cell_type": "code",
   "execution_count": 11,
   "metadata": {
    "collapsed": false
   },
   "outputs": [
    {
     "data": {
      "text/plain": [
       "{'test': array([[[ 0.88992744, -0.45610213],\n",
       "         [ 0.88532153, -0.46497934],\n",
       "         [ 0.88062708, -0.47381004],\n",
       "         [ 0.87584454, -0.48259335],\n",
       "         [ 0.87097441, -0.49132839]],\n",
       " \n",
       "        [[ 0.88532153, -0.46497934],\n",
       "         [ 0.88062708, -0.47381004],\n",
       "         [ 0.87584454, -0.48259335],\n",
       "         [ 0.87097441, -0.49132839],\n",
       "         [ 0.86601715, -0.50001429]],\n",
       " \n",
       "        [[ 0.88062708, -0.47381004],\n",
       "         [ 0.87584454, -0.48259335],\n",
       "         [ 0.87097441, -0.49132839],\n",
       "         [ 0.86601715, -0.50001429],\n",
       "         [ 0.86097329, -0.50865018]],\n",
       " \n",
       "        ..., \n",
       "        [[-0.56544436,  0.82478644],\n",
       "         [-0.55716753,  0.83040011],\n",
       "         [-0.54883498,  0.83593072],\n",
       "         [-0.54044753,  0.84137772],\n",
       "         [-0.53200602,  0.84674057]],\n",
       " \n",
       "        [[-0.55716753,  0.83040011],\n",
       "         [-0.54883498,  0.83593072],\n",
       "         [-0.54044753,  0.84137772],\n",
       "         [-0.53200602,  0.84674057],\n",
       "         [-0.5235113 ,  0.85201873]],\n",
       " \n",
       "        [[-0.54883498,  0.83593072],\n",
       "         [-0.54044753,  0.84137772],\n",
       "         [-0.53200602,  0.84674057],\n",
       "         [-0.5235113 ,  0.85201873],\n",
       "         [-0.51496423,  0.85721167]]]),\n",
       " 'train': array([[[ 0.        ,  1.        ],\n",
       "         [ 0.01000083,  0.99994999],\n",
       "         [ 0.02000067,  0.99979997],\n",
       "         [ 0.0299985 ,  0.99954994],\n",
       "         [ 0.03999333,  0.99919995]],\n",
       " \n",
       "        [[ 0.01000083,  0.99994999],\n",
       "         [ 0.02000067,  0.99979997],\n",
       "         [ 0.0299985 ,  0.99954994],\n",
       "         [ 0.03999333,  0.99919995],\n",
       "         [ 0.04998416,  0.99875001]],\n",
       " \n",
       "        [[ 0.02000067,  0.99979997],\n",
       "         [ 0.0299985 ,  0.99954994],\n",
       "         [ 0.03999333,  0.99919995],\n",
       "         [ 0.04998416,  0.99875001],\n",
       "         [ 0.05997   ,  0.99820018]],\n",
       " \n",
       "        ..., \n",
       "        [[-0.68406142,  0.72942441],\n",
       "         [-0.67673236,  0.73622912],\n",
       "         [-0.66933561,  0.74296019],\n",
       "         [-0.66187192,  0.74961694],\n",
       "         [-0.65434202,  0.75619873]],\n",
       " \n",
       "        [[-0.67673236,  0.73622912],\n",
       "         [-0.66933561,  0.74296019],\n",
       "         [-0.66187192,  0.74961694],\n",
       "         [-0.65434202,  0.75619873],\n",
       "         [-0.64674668,  0.76270488]],\n",
       " \n",
       "        [[-0.66933561,  0.74296019],\n",
       "         [-0.66187192,  0.74961694],\n",
       "         [-0.65434202,  0.75619873],\n",
       "         [-0.64674668,  0.76270488],\n",
       "         [-0.63908666,  0.76913474]]]),\n",
       " 'val': array([[[-0.62357561,  0.78176305],\n",
       "         [-0.61572614,  0.78796023],\n",
       "         [-0.60781509,  0.79407859],\n",
       "         [-0.59984325,  0.80011754],\n",
       "         [-0.59181141,  0.80607646]],\n",
       " \n",
       "        [[-0.61572614,  0.78796023],\n",
       "         [-0.60781509,  0.79407859],\n",
       "         [-0.59984325,  0.80011754],\n",
       "         [-0.59181141,  0.80607646],\n",
       "         [-0.58372038,  0.81195475]],\n",
       " \n",
       "        [[-0.60781509,  0.79407859],\n",
       "         [-0.59984325,  0.80011754],\n",
       "         [-0.59181141,  0.80607646],\n",
       "         [-0.58372038,  0.81195475],\n",
       "         [-0.57557096,  0.81775184]],\n",
       " \n",
       "        ..., \n",
       "        [[ 0.92353352, -0.38351772],\n",
       "         [ 0.91965184, -0.39273464],\n",
       "         [ 0.91567817, -0.40191228],\n",
       "         [ 0.91161292, -0.41104973],\n",
       "         [ 0.90745649, -0.42014606]],\n",
       " \n",
       "        [[ 0.91965184, -0.39273464],\n",
       "         [ 0.91567817, -0.40191228],\n",
       "         [ 0.91161292, -0.41104973],\n",
       "         [ 0.90745649, -0.42014606],\n",
       "         [ 0.9032093 , -0.42920037]],\n",
       " \n",
       "        [[ 0.91567817, -0.40191228],\n",
       "         [ 0.91161292, -0.41104973],\n",
       "         [ 0.90745649, -0.42014606],\n",
       "         [ 0.9032093 , -0.42920037],\n",
       "         [ 0.89887177, -0.43821175]]])}"
      ]
     },
     "execution_count": 11,
     "metadata": {},
     "output_type": "execute_result"
    }
   ],
   "source": [
    "X"
   ]
  },
  {
   "cell_type": "code",
   "execution_count": null,
   "metadata": {
    "collapsed": true
   },
   "outputs": [],
   "source": []
  }
 ],
 "metadata": {
  "kernelspec": {
   "display_name": "Python 2",
   "language": "python",
   "name": "python2"
  },
  "language_info": {
   "codemirror_mode": {
    "name": "ipython",
    "version": 2
   },
   "file_extension": ".py",
   "mimetype": "text/x-python",
   "name": "python",
   "nbconvert_exporter": "python",
   "pygments_lexer": "ipython2",
   "version": "2.7.11"
  }
 },
 "nbformat": 4,
 "nbformat_minor": 0
}
